{
 "cells": [
  {
   "cell_type": "markdown",
   "id": "487060fa-0123-474b-9140-d265c22554ca",
   "metadata": {},
   "source": [
    "# Hicks's First Notebook"
   ]
  },
  {
   "cell_type": "markdown",
   "id": "bb88ef2c-e526-4bcb-a4c5-2a745d30115a",
   "metadata": {},
   "source": [
    "## Luke Hicks"
   ]
  },
  {
   "cell_type": "code",
   "execution_count": 31,
   "id": "67fcf66a-ffa3-4947-a165-a0c2d3c2ced6",
   "metadata": {},
   "outputs": [],
   "source": [
    "import random\n",
    "nums = [random.randrange(30,100) for _ in range(40)]"
   ]
  },
  {
   "cell_type": "code",
   "execution_count": 52,
   "id": "024953b3-83cc-40a4-869a-bc9296d04e2a",
   "metadata": {},
   "outputs": [
    {
     "name": "stdout",
     "output_type": "stream",
     "text": [
      "32 35 37 39 41 43 43 44 46 46 47 48 50 50 53 57 58 58 59 61 65 65 65 66 68 71 72 75 76 79 81 84 86 87 88 88 94 97 97 98 "
     ]
    }
   ],
   "source": [
    "nums.sort()\n",
    "for i in nums:\n",
    "    print(i, end=' ')"
   ]
  },
  {
   "cell_type": "markdown",
   "id": "d2340809-93ca-4680-8974-6d3ef5cb34d9",
   "metadata": {},
   "source": [
    "## The Sample Mean\n",
    "* Add all the values in the list, which is the sum\n",
    "* Divide the sum by the number of values in the list"
   ]
  },
  {
   "cell_type": "markdown",
   "id": "b4b55a70-cc52-4c8e-b23a-9c348bfcb1af",
   "metadata": {},
   "source": [
    "$$\n",
    "\\bar{x} = \\frac{\\sum x_i}{n}\n",
    "$$"
   ]
  },
  {
   "cell_type": "code",
   "execution_count": 50,
   "id": "8b78d053-4e81-46c8-9d90-bd9f106b8277",
   "metadata": {},
   "outputs": [
    {
     "name": "stdout",
     "output_type": "stream",
     "text": [
      "The mean is 63.73\n"
     ]
    }
   ],
   "source": [
    "mean = sum(nums) / len(nums)\n",
    "print(f\"The mean is {mean:.2f}\")"
   ]
  },
  {
   "cell_type": "markdown",
   "id": "9035629e-8a52-4914-a6dc-a5e6e4b2f0c5",
   "metadata": {},
   "source": [
    "## The Median\n",
    "[Definition](https://www.investopedia.com/terms/m/median.asp)"
   ]
  },
  {
   "cell_type": "code",
   "execution_count": 60,
   "id": "0a10ce0c-d71a-434c-822f-9b9e21022cc5",
   "metadata": {},
   "outputs": [
    {
     "name": "stdout",
     "output_type": "stream",
     "text": [
      " The median is 63.0\n"
     ]
    }
   ],
   "source": [
    "# Sort the list in ascending order\n",
    "# If there are an even number of values (which there is), calculate the two middle values\n",
    "# Add them up then divide by 2\n",
    "\n",
    "length = len(nums)\n",
    "if length % 2 == 0:\n",
    "    mid1 = nums[length // 2 - 1]\n",
    "    mid2 = nums[length // 2]\n",
    "    median = (mid1 + mid2) / 2\n",
    "\n",
    "print(f\" The median is {median:.1f}\")\n",
    "\n"
   ]
  }
 ],
 "metadata": {
  "kernelspec": {
   "display_name": "Python 3 (ipykernel)",
   "language": "python",
   "name": "python3"
  },
  "language_info": {
   "codemirror_mode": {
    "name": "ipython",
    "version": 3
   },
   "file_extension": ".py",
   "mimetype": "text/x-python",
   "name": "python",
   "nbconvert_exporter": "python",
   "pygments_lexer": "ipython3",
   "version": "3.12.4"
  }
 },
 "nbformat": 4,
 "nbformat_minor": 5
}
